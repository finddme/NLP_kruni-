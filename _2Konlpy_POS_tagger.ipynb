{
  "nbformat": 4,
  "nbformat_minor": 0,
  "metadata": {
    "colab": {
      "name": "#2Konlpy_POS_tagger.ipynb",
      "provenance": [],
      "collapsed_sections": [],
      "include_colab_link": true
    },
    "kernelspec": {
      "name": "python3",
      "display_name": "Python 3"
    }
  },
  "cells": [
    {
      "cell_type": "markdown",
      "metadata": {
        "id": "view-in-github",
        "colab_type": "text"
      },
      "source": [
        "<a href=\"https://colab.research.google.com/github/finddme/NLP_kruni-/blob/master/_2Konlpy_POS_tagger.ipynb\" target=\"_parent\"><img src=\"https://colab.research.google.com/assets/colab-badge.svg\" alt=\"Open In Colab\"/></a>"
      ]
    },
    {
      "cell_type": "markdown",
      "metadata": {
        "id": "vMdlahJgz0_Q"
      },
      "source": [
        "**Mecab 설치**"
      ]
    },
    {
      "cell_type": "code",
      "metadata": {
        "id": "STgDlyEo39vC"
      },
      "source": [
        "!bash <(curl -s https://raw.githubusercontent.com/konlpy/konlpy/master/scripts/mecab.sh)"
      ],
      "execution_count": null,
      "outputs": []
    },
    {
      "cell_type": "markdown",
      "metadata": {
        "id": "a1SNdKlsz9h8"
      },
      "source": [
        "**KoNLPy 설치**"
      ]
    },
    {
      "cell_type": "code",
      "metadata": {
        "id": "13gHPoQ14ul7"
      },
      "source": [
        "!pip install konlpy"
      ],
      "execution_count": null,
      "outputs": []
    },
    {
      "cell_type": "markdown",
      "metadata": {
        "id": "hh-6Tyg-0J4a"
      },
      "source": [
        "**KoNLPy 사용하기**\n"
      ]
    },
    {
      "cell_type": "code",
      "metadata": {
        "id": "We0lI7O45av5"
      },
      "source": [
        "import konlpy"
      ],
      "execution_count": null,
      "outputs": []
    },
    {
      "cell_type": "markdown",
      "metadata": {
        "id": "VrMTtb6O0BIL"
      },
      "source": [
        "Konlpy를 사용하기 위해 import"
      ]
    },
    {
      "cell_type": "code",
      "metadata": {
        "id": "0mdEzIJc0QHr"
      },
      "source": [
        "okt_tagger = konlpy.tag.Okt()"
      ],
      "execution_count": null,
      "outputs": []
    },
    {
      "cell_type": "markdown",
      "metadata": {
        "id": "NCcFfNdA0h-s"
      },
      "source": [
        "분석기 load"
      ]
    },
    {
      "cell_type": "code",
      "metadata": {
        "id": "17UMU0vo0mXX",
        "colab": {
          "base_uri": "https://localhost:8080/",
          "height": 34
        },
        "outputId": "0c138fd7-9f85-4f4e-af38-aeeffd23e7e3"
      },
      "source": [
        "okt_tagger.pos(\"안녕하세요 감사합니다\")"
      ],
      "execution_count": null,
      "outputs": [
        {
          "output_type": "execute_result",
          "data": {
            "text/plain": [
              "[('안녕하세요', 'Adjective'), ('감사합니다', 'Verb')]"
            ]
          },
          "metadata": {
            "tags": []
          },
          "execution_count": 18
        }
      ]
    },
    {
      "cell_type": "markdown",
      "metadata": {
        "id": "bs4T6i_31JiZ"
      },
      "source": [
        "pos 메소드를 사용해 POS tagging 실행"
      ]
    },
    {
      "cell_type": "code",
      "metadata": {
        "id": "SwnLsRr509Us"
      },
      "source": [
        "from konlpy.tag import Mecab\n",
        "mecab_tagger = Mecab()"
      ],
      "execution_count": null,
      "outputs": []
    },
    {
      "cell_type": "markdown",
      "metadata": {
        "id": "FRYTDNX61FWI"
      },
      "source": [
        "분석기만 따로 import한 후 load"
      ]
    },
    {
      "cell_type": "code",
      "metadata": {
        "id": "UIueqDBP29g_",
        "colab": {
          "base_uri": "https://localhost:8080/",
          "height": 102
        },
        "outputId": "c2505d7d-8606-4eec-8be2-fb163327c120"
      },
      "source": [
        "mecab_tagger.pos(\"안녕하세요 감사합니다\")"
      ],
      "execution_count": null,
      "outputs": [
        {
          "output_type": "execute_result",
          "data": {
            "text/plain": [
              "[('안녕', 'NNG'),\n",
              " ('하', 'XSV'),\n",
              " ('세요', 'EP+EF'),\n",
              " ('감사', 'NNG'),\n",
              " ('합니다', 'XSV+EC')]"
            ]
          },
          "metadata": {
            "tags": []
          },
          "execution_count": 20
        }
      ]
    },
    {
      "cell_type": "markdown",
      "metadata": {
        "id": "a4H6P-vw1So8"
      },
      "source": [
        "pos 메소드를 이용한 POS tagging"
      ]
    },
    {
      "cell_type": "code",
      "metadata": {
        "id": "1JkY9Ecz5v5g",
        "colab": {
          "base_uri": "https://localhost:8080/",
          "height": 51
        },
        "outputId": "94e218f8-0be7-4332-ec66-b5859456e66b"
      },
      "source": [
        "mecab_tagger.pos(\"안녕하세요 감사합니다\", flatten=False)"
      ],
      "execution_count": null,
      "outputs": [
        {
          "output_type": "execute_result",
          "data": {
            "text/plain": [
              "[[('안녕', 'NNG'), ('하', 'XSV'), ('세요', 'EP+EF')],\n",
              " [('감사', 'NNG'), ('합니다', 'XSV+EC')]]"
            ]
          },
          "metadata": {
            "tags": []
          },
          "execution_count": 21
        }
      ]
    },
    {
      "cell_type": "code",
      "metadata": {
        "id": "8XkskfdUUmDU",
        "colab": {
          "base_uri": "https://localhost:8080/",
          "height": 34
        },
        "outputId": "cc8875d4-0b0b-4eb3-d8aa-33c45c94568d"
      },
      "source": [
        "mecab_tagger.pos(\"안녕하세요 감사합니다\", join=True)"
      ],
      "execution_count": null,
      "outputs": [
        {
          "output_type": "execute_result",
          "data": {
            "text/plain": [
              "['안녕/NNG', '하/XSV', '세요/EP+EF', '감사/NNG', '합니다/XSV+EC']"
            ]
          },
          "metadata": {
            "tags": []
          },
          "execution_count": 22
        }
      ]
    },
    {
      "cell_type": "code",
      "metadata": {
        "id": "O0cHP75xVq4P",
        "colab": {
          "base_uri": "https://localhost:8080/",
          "height": 34
        },
        "outputId": "53e68d87-106f-4706-fd5f-6436b57a4d6a"
      },
      "source": [
        "mecab_tagger.pos(\"안녕하세요 감사합니다\", flatten=False, join=True)"
      ],
      "execution_count": null,
      "outputs": [
        {
          "output_type": "execute_result",
          "data": {
            "text/plain": [
              "[['안녕/NNG', '하/XSV', '세요/EP+EF'], ['감사/NNG', '합니다/XSV+EC']]"
            ]
          },
          "metadata": {
            "tags": []
          },
          "execution_count": 23
        }
      ]
    },
    {
      "cell_type": "code",
      "metadata": {
        "id": "2WO9hMCe3y3k",
        "colab": {
          "base_uri": "https://localhost:8080/",
          "height": 34
        },
        "outputId": "523bfe7b-347f-4b58-8932-0be819ab38ba"
      },
      "source": [
        "mecab_tagger.morphs(\"존경과 감사를 표현할 수 있어 다행입니다\")"
      ],
      "execution_count": null,
      "outputs": [
        {
          "output_type": "execute_result",
          "data": {
            "text/plain": [
              "['존경', '과', '감사', '를', '표현', '할', '수', '있', '어', '다행', '입니다']"
            ]
          },
          "metadata": {
            "tags": []
          },
          "execution_count": 24
        }
      ]
    },
    {
      "cell_type": "markdown",
      "metadata": {
        "id": "22WNpL0D330j"
      },
      "source": [
        "morphs 메소드를 이용한 형태소 분리"
      ]
    },
    {
      "cell_type": "code",
      "metadata": {
        "id": "fPh-NYEQ3VHx",
        "colab": {
          "base_uri": "https://localhost:8080/",
          "height": 34
        },
        "outputId": "deebabd5-df8b-4b8f-e191-3f9d5f61ede5"
      },
      "source": [
        "mecab_tagger.nouns(\"존경과 감사를 표현할 수 있어 다행입니다\")"
      ],
      "execution_count": null,
      "outputs": [
        {
          "output_type": "execute_result",
          "data": {
            "text/plain": [
              "['존경', '감사', '표현', '수', '다행']"
            ]
          },
          "metadata": {
            "tags": []
          },
          "execution_count": 25
        }
      ]
    },
    {
      "cell_type": "markdown",
      "metadata": {
        "id": "HI2E4WgK34NZ"
      },
      "source": [
        "nouns 메소드를 이용한 명사 추출"
      ]
    },
    {
      "cell_type": "code",
      "metadata": {
        "id": "eaKGeRBo4RNz",
        "colab": {
          "base_uri": "https://localhost:8080/",
          "height": 238
        },
        "outputId": "8cc084d4-1ecd-45e5-de47-388920503da2"
      },
      "source": [
        "konlpy.tag.Komoran().pos(\"존경과 감사를 표현할 수 있어 다행입니다\")"
      ],
      "execution_count": null,
      "outputs": [
        {
          "output_type": "execute_result",
          "data": {
            "text/plain": [
              "[('존경', 'NNP'),\n",
              " ('과', 'JC'),\n",
              " ('감사', 'NNG'),\n",
              " ('를', 'JKO'),\n",
              " ('표현', 'NNG'),\n",
              " ('하', 'XSV'),\n",
              " ('ㄹ', 'ETM'),\n",
              " ('수', 'NNB'),\n",
              " ('있', 'VV'),\n",
              " ('어', 'EC'),\n",
              " ('다행', 'NNG'),\n",
              " ('이', 'VCP'),\n",
              " ('ㅂ니다', 'EC')]"
            ]
          },
          "metadata": {
            "tags": []
          },
          "execution_count": 26
        }
      ]
    },
    {
      "cell_type": "code",
      "metadata": {
        "id": "qfRIGMwI4Yow",
        "colab": {
          "base_uri": "https://localhost:8080/",
          "height": 238
        },
        "outputId": "7c85a2f9-bd51-4eff-dc5e-c06a6f83497a"
      },
      "source": [
        "konlpy.tag.Kkma().pos(\"존경과 감사를 표현할 수 있어 다행입니다\")"
      ],
      "execution_count": null,
      "outputs": [
        {
          "output_type": "execute_result",
          "data": {
            "text/plain": [
              "[('존경', 'NNG'),\n",
              " ('과', 'JKM'),\n",
              " ('감사', 'NNG'),\n",
              " ('를', 'JKO'),\n",
              " ('표현', 'NNG'),\n",
              " ('하', 'XSV'),\n",
              " ('ㄹ', 'ETD'),\n",
              " ('수', 'NNB'),\n",
              " ('있', 'VV'),\n",
              " ('어', 'ECD'),\n",
              " ('다행', 'NNG'),\n",
              " ('이', 'VCP'),\n",
              " ('ㅂ니다', 'EFN')]"
            ]
          },
          "metadata": {
            "tags": []
          },
          "execution_count": 27
        }
      ]
    },
    {
      "cell_type": "code",
      "metadata": {
        "id": "KP80xlh34Z_I",
        "colab": {
          "base_uri": "https://localhost:8080/",
          "height": 238
        },
        "outputId": "fd7590e4-b338-4788-f789-8ecf36769127"
      },
      "source": [
        "konlpy.tag.Hannanum().pos(\"존경과 감사를 표현할 수 있어 다행입니다\")"
      ],
      "execution_count": null,
      "outputs": [
        {
          "output_type": "execute_result",
          "data": {
            "text/plain": [
              "[('존경', 'N'),\n",
              " ('과', 'J'),\n",
              " ('감사', 'N'),\n",
              " ('를', 'J'),\n",
              " ('표현', 'N'),\n",
              " ('하', 'X'),\n",
              " ('ㄹ', 'E'),\n",
              " ('수', 'N'),\n",
              " ('있', 'P'),\n",
              " ('어', 'E'),\n",
              " ('다행', 'N'),\n",
              " ('이', 'J'),\n",
              " ('ㅂ니다', 'E')]"
            ]
          },
          "metadata": {
            "tags": []
          },
          "execution_count": 28
        }
      ]
    }
  ]
}