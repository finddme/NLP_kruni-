{
  "nbformat": 4,
  "nbformat_minor": 0,
  "metadata": {
    "colab": {
      "name": "Syntactic Parsing for English in Action.ipynb",
      "provenance": [],
      "toc_visible": true
    },
    "kernelspec": {
      "name": "python3",
      "display_name": "Python 3"
    }
  },
  "cells": [
    {
      "cell_type": "markdown",
      "metadata": {
        "id": "jOTggOJJcMDL",
        "colab_type": "text"
      },
      "source": [
        "# Syntactic Parsing for English in Action: Using NLTK and ErgApi\n",
        "\n",
        "\n"
      ]
    },
    {
      "cell_type": "code",
      "metadata": {
        "id": "ICebdYQU3dwr",
        "colab_type": "code",
        "outputId": "26e5768a-d401-4a2f-d8e9-6951daeb49ea",
        "colab": {
          "base_uri": "https://localhost:8080/",
          "height": 102
        }
      },
      "source": [
        "!pip install --user -U nltk"
      ],
      "execution_count": 0,
      "outputs": [
        {
          "output_type": "stream",
          "text": [
            "Requirement already up-to-date: nltk in /root/.local/lib/python3.6/site-packages (3.5)\n",
            "Requirement already satisfied, skipping upgrade: tqdm in /usr/local/lib/python3.6/dist-packages (from nltk) (4.41.1)\n",
            "Requirement already satisfied, skipping upgrade: click in /usr/local/lib/python3.6/dist-packages (from nltk) (7.1.2)\n",
            "Requirement already satisfied, skipping upgrade: joblib in /usr/local/lib/python3.6/dist-packages (from nltk) (0.14.1)\n",
            "Requirement already satisfied, skipping upgrade: regex in /usr/local/lib/python3.6/dist-packages (from nltk) (2019.12.20)\n"
          ],
          "name": "stdout"
        }
      ]
    },
    {
      "cell_type": "code",
      "metadata": {
        "id": "EzC7D1yW32-y",
        "colab_type": "code",
        "outputId": "b004b582-5a35-4c2b-e326-02c87bfae939",
        "colab": {
          "base_uri": "https://localhost:8080/",
          "height": 289
        }
      },
      "source": [
        "import nltk\n",
        "nltk.download()"
      ],
      "execution_count": 0,
      "outputs": [
        {
          "output_type": "stream",
          "text": [
            "NLTK Downloader\n",
            "---------------------------------------------------------------------------\n",
            "    d) Download   l) List    u) Update   c) Config   h) Help   q) Quit\n",
            "---------------------------------------------------------------------------\n",
            "Downloader> d\n",
            "\n",
            "Download which package (l=list; x=cancel)?\n",
            "  Identifier> treebank\n",
            "    Downloading package treebank to /root/nltk_data...\n",
            "      Unzipping corpora/treebank.zip.\n",
            "\n",
            "---------------------------------------------------------------------------\n",
            "    d) Download   l) List    u) Update   c) Config   h) Help   q) Quit\n",
            "---------------------------------------------------------------------------\n",
            "Downloader> q\n"
          ],
          "name": "stdout"
        },
        {
          "output_type": "execute_result",
          "data": {
            "text/plain": [
              "True"
            ]
          },
          "metadata": {
            "tags": []
          },
          "execution_count": 6
        }
      ]
    },
    {
      "cell_type": "markdown",
      "metadata": {
        "id": "sULI9mLe3j6R",
        "colab_type": "text"
      },
      "source": [
        "## PCFG"
      ]
    },
    {
      "cell_type": "code",
      "metadata": {
        "id": "MjVQ6JRh34QJ",
        "colab_type": "code",
        "colab": {}
      },
      "source": [
        "from nltk.corpus import treebank\n",
        "from nltk import PCFG\n",
        "from nltk.grammar import CFG, Nonterminal\n",
        "from nltk.parse import pchart\n",
        "from nltk import induce_pcfg\n",
        "from nltk.tree import Tree"
      ],
      "execution_count": 0,
      "outputs": []
    },
    {
      "cell_type": "code",
      "metadata": {
        "id": "Up1ncXqj36As",
        "colab_type": "code",
        "colab": {}
      },
      "source": [
        "t1 = treebank.parsed_sents(\"wsj_0001.mrg\")[0]\n",
        "s = '(S (NP (DT the) (NN cat)) (VP (VBD ate) (NP (DT a) (NN cookie))))'\n",
        "t2 = Tree.fromstring(s)\n",
        "#t1.draw()"
      ],
      "execution_count": 0,
      "outputs": []
    },
    {
      "cell_type": "code",
      "metadata": {
        "id": "8XQKF0PF38Cx",
        "colab_type": "code",
        "colab": {}
      },
      "source": [
        "toy_pcfg1 = PCFG.fromstring(\"\"\"\n",
        "    S -> NP VP [1.0]\n",
        "    NP -> Det N [0.5] | NP PP [0.25] | 'John' [0.1] | 'I' [0.15]\n",
        "    Det -> 'the' [0.8] | 'my' [0.2]\n",
        "    N -> 'man' [0.5] | 'telescope' [0.5]\n",
        "    VP -> VP PP [0.1] | V NP [0.7] | V [0.2]\n",
        "    V -> 'ate' [0.35] | 'saw' [0.65]\n",
        "    PP -> P NP [1.0]\n",
        "    P -> 'with' [0.61] | 'under' [0.39]\n",
        "\"\"\")"
      ],
      "execution_count": 0,
      "outputs": []
    },
    {
      "cell_type": "code",
      "metadata": {
        "id": "pL-_PKbk39oX",
        "colab_type": "code",
        "outputId": "923fa2b6-c228-4b87-93b0-ab2903868cdc",
        "colab": {
          "base_uri": "https://localhost:8080/",
          "height": 85
        }
      },
      "source": [
        "pcfg_prods = toy_pcfg1.productions()\n",
        "\n",
        "pcfg_prod = pcfg_prods[9]\n",
        "print('A PCFG production:', pcfg_prod)\n",
        "print('pcfg_prod.lhs()  =>', pcfg_prod.lhs())\n",
        "print('pcfg_prod.rhs()  =>', pcfg_prod.rhs())\n",
        "print('pcfg_prod.prob() =>', pcfg_prod.prob())"
      ],
      "execution_count": 0,
      "outputs": [
        {
          "output_type": "stream",
          "text": [
            "A PCFG production: VP -> VP PP [0.1]\n",
            "pcfg_prod.lhs()  => VP\n",
            "pcfg_prod.rhs()  => (VP, PP)\n",
            "pcfg_prod.prob() => 0.1\n"
          ],
          "name": "stdout"
        }
      ]
    },
    {
      "cell_type": "code",
      "metadata": {
        "id": "3hINCiL33_Ou",
        "colab_type": "code",
        "outputId": "f3af3718-4bee-4938-cf01-e285cb4ac4d0",
        "colab": {
          "base_uri": "https://localhost:8080/",
          "height": 71
        }
      },
      "source": [
        "# extract productions from three trees and induce the PCFG\n",
        "print(\"Induce PCFG grammar from treebank data:\")\n",
        "\n",
        "productions = []\n",
        "for item in treebank.fileids()[:1]:\n",
        "    for tree in treebank.parsed_sents(item):\n",
        "        # perform optional tree transformations, e.g.:\n",
        "        tree.collapse_unary(collapsePOS = False)# Remove branches A-B-C into A-B+C\n",
        "        tree.chomsky_normal_form(horzMarkov = 2)# Remove A->(B,C,D) into A->B,C+D->D\n",
        "        productions += tree.productions()\n",
        "print(productions)"
      ],
      "execution_count": 0,
      "outputs": [
        {
          "output_type": "stream",
          "text": [
            "Induce PCFG grammar from treebank data:\n",
            "[S -> NP-SBJ S|<VP-.>, NP-SBJ -> NP NP-SBJ|<,-ADJP>, NP -> NNP NNP, NNP -> 'Pierre', NNP -> 'Vinken', NP-SBJ|<,-ADJP> -> , NP-SBJ|<ADJP-,>, , -> ',', NP-SBJ|<ADJP-,> -> ADJP ,, ADJP -> NP JJ, NP -> CD NNS, CD -> '61', NNS -> 'years', JJ -> 'old', , -> ',', S|<VP-.> -> VP ., VP -> MD VP, MD -> 'will', VP -> VB VP|<NP-PP-CLR>, VB -> 'join', VP|<NP-PP-CLR> -> NP VP|<PP-CLR-NP-TMP>, NP -> DT NN, DT -> 'the', NN -> 'board', VP|<PP-CLR-NP-TMP> -> PP-CLR NP-TMP, PP-CLR -> IN NP, IN -> 'as', NP -> DT NP|<JJ-NN>, DT -> 'a', NP|<JJ-NN> -> JJ NN, JJ -> 'nonexecutive', NN -> 'director', NP-TMP -> NNP CD, NNP -> 'Nov.', CD -> '29', . -> '.', S -> NP-SBJ S|<VP-.>, NP-SBJ -> NNP NNP, NNP -> 'Mr.', NNP -> 'Vinken', S|<VP-.> -> VP ., VP -> VBZ NP-PRD, VBZ -> 'is', NP-PRD -> NP PP, NP -> NN, NN -> 'chairman', PP -> IN NP, IN -> 'of', NP -> NP NP|<,-NP>, NP -> NNP NNP, NNP -> 'Elsevier', NNP -> 'N.V.', NP|<,-NP> -> , NP, , -> ',', NP -> DT NP|<NNP-VBG>, DT -> 'the', NP|<NNP-VBG> -> NNP NP|<VBG-NN>, NNP -> 'Dutch', NP|<VBG-NN> -> VBG NN, VBG -> 'publishing', NN -> 'group', . -> '.']\n"
          ],
          "name": "stdout"
        }
      ]
    },
    {
      "cell_type": "code",
      "metadata": {
        "id": "R0tk3A9M4BIF",
        "colab_type": "code",
        "outputId": "e137f1fa-47c2-4f24-9b27-cef45f452c0f",
        "colab": {
          "base_uri": "https://localhost:8080/",
          "height": 935
        }
      },
      "source": [
        "S = Nonterminal('S')\n",
        "grammar = induce_pcfg(S, productions)\n",
        "print(grammar)"
      ],
      "execution_count": 0,
      "outputs": [
        {
          "output_type": "stream",
          "text": [
            "Grammar with 53 productions (start state = S)\n",
            "    S -> NP-SBJ S|<VP-.> [1.0]\n",
            "    NP-SBJ -> NP NP-SBJ|<,-ADJP> [0.5]\n",
            "    NP -> NNP NNP [0.25]\n",
            "    NNP -> 'Pierre' [0.125]\n",
            "    NNP -> 'Vinken' [0.25]\n",
            "    NP-SBJ|<,-ADJP> -> , NP-SBJ|<ADJP-,> [1.0]\n",
            "    , -> ',' [1.0]\n",
            "    NP-SBJ|<ADJP-,> -> ADJP , [1.0]\n",
            "    ADJP -> NP JJ [1.0]\n",
            "    NP -> CD NNS [0.125]\n",
            "    CD -> '61' [0.5]\n",
            "    NNS -> 'years' [1.0]\n",
            "    JJ -> 'old' [0.5]\n",
            "    S|<VP-.> -> VP . [1.0]\n",
            "    VP -> MD VP [0.333333]\n",
            "    MD -> 'will' [1.0]\n",
            "    VP -> VB VP|<NP-PP-CLR> [0.333333]\n",
            "    VB -> 'join' [1.0]\n",
            "    VP|<NP-PP-CLR> -> NP VP|<PP-CLR-NP-TMP> [1.0]\n",
            "    NP -> DT NN [0.125]\n",
            "    DT -> 'the' [0.666667]\n",
            "    NN -> 'board' [0.25]\n",
            "    VP|<PP-CLR-NP-TMP> -> PP-CLR NP-TMP [1.0]\n",
            "    PP-CLR -> IN NP [1.0]\n",
            "    IN -> 'as' [0.5]\n",
            "    NP -> DT NP|<JJ-NN> [0.125]\n",
            "    DT -> 'a' [0.333333]\n",
            "    NP|<JJ-NN> -> JJ NN [1.0]\n",
            "    JJ -> 'nonexecutive' [0.5]\n",
            "    NN -> 'director' [0.25]\n",
            "    NP-TMP -> NNP CD [1.0]\n",
            "    NNP -> 'Nov.' [0.125]\n",
            "    CD -> '29' [0.5]\n",
            "    . -> '.' [1.0]\n",
            "    NP-SBJ -> NNP NNP [0.5]\n",
            "    NNP -> 'Mr.' [0.125]\n",
            "    VP -> VBZ NP-PRD [0.333333]\n",
            "    VBZ -> 'is' [1.0]\n",
            "    NP-PRD -> NP PP [1.0]\n",
            "    NP -> NN [0.125]\n",
            "    NN -> 'chairman' [0.25]\n",
            "    PP -> IN NP [1.0]\n",
            "    IN -> 'of' [0.5]\n",
            "    NP -> NP NP|<,-NP> [0.125]\n",
            "    NNP -> 'Elsevier' [0.125]\n",
            "    NNP -> 'N.V.' [0.125]\n",
            "    NP|<,-NP> -> , NP [1.0]\n",
            "    NP -> DT NP|<NNP-VBG> [0.125]\n",
            "    NP|<NNP-VBG> -> NNP NP|<VBG-NN> [1.0]\n",
            "    NNP -> 'Dutch' [0.125]\n",
            "    NP|<VBG-NN> -> VBG NN [1.0]\n",
            "    VBG -> 'publishing' [1.0]\n",
            "    NN -> 'group' [0.25]\n"
          ],
          "name": "stdout"
        }
      ]
    },
    {
      "cell_type": "markdown",
      "metadata": {
        "id": "0DZAIWcj4Dfm",
        "colab_type": "text"
      },
      "source": [
        "## Parsers"
      ]
    },
    {
      "cell_type": "code",
      "metadata": {
        "id": "Os6rKIEx4KYr",
        "colab_type": "code",
        "outputId": "d48da169-e00e-4a63-fb52-4b46eaf8c77e",
        "colab": {
          "base_uri": "https://localhost:8080/",
          "height": 1000
        }
      },
      "source": [
        "print(\"Parse sentence using induced grammar:\")\n",
        "\n",
        "parser = pchart.InsideChartParser(grammar)\n",
        "parser.trace(3)\n",
        "\n",
        "sent = treebank.parsed_sents('wsj_0001.mrg')[0].leaves()\n",
        "print(sent)\n",
        "\n",
        "for parse in parser.parse(sent):\n",
        "    print(parse)"
      ],
      "execution_count": 0,
      "outputs": [
        {
          "output_type": "stream",
          "text": [
            "Parse sentence using induced grammar:\n",
            "['Pierre', 'Vinken', ',', '61', 'years', 'old', ',', 'will', 'join', 'the', 'board', 'as', 'a', 'nonexecutive', 'director', 'Nov.', '29', '.']\n",
            "  |[-] . . . . . . . . . . . . . . . . .| [0:1] 'Pierre' [1.0]\n",
            "  |. [-] . . . . . . . . . . . . . . . .| [1:2] 'Vinken' [1.0]\n",
            "  |. . [-] . . . . . . . . . . . . . . .| [2:3] ','  [1.0]\n",
            "  |. . . [-] . . . . . . . . . . . . . .| [3:4] '61' [1.0]\n",
            "  |. . . . [-] . . . . . . . . . . . . .| [4:5] 'years' [1.0]\n",
            "  |. . . . . [-] . . . . . . . . . . . .| [5:6] 'old' [1.0]\n",
            "  |. . . . . . [-] . . . . . . . . . . .| [6:7] ','  [1.0]\n",
            "  |. . . . . . . [-] . . . . . . . . . .| [7:8] 'will' [1.0]\n",
            "  |. . . . . . . . [-] . . . . . . . . .| [8:9] 'join' [1.0]\n",
            "  |. . . . . . . . . [-] . . . . . . . .| [9:10] 'the' [1.0]\n",
            "  |. . . . . . . . . . [-] . . . . . . .| [10:11] 'board' [1.0]\n",
            "  |. . . . . . . . . . . [-] . . . . . .| [11:12] 'as' [1.0]\n",
            "  |. . . . . . . . . . . . [-] . . . . .| [12:13] 'a' [1.0]\n",
            "  |. . . . . . . . . . . . . [-] . . . .| [13:14] 'nonexecutive' [1.0]\n",
            "  |. . . . . . . . . . . . . . [-] . . .| [14:15] 'director' [1.0]\n",
            "  |. . . . . . . . . . . . . . . [-] . .| [15:16] 'Nov.' [1.0]\n",
            "  |. . . . . . . . . . . . . . . . [-] .| [16:17] '29' [1.0]\n",
            "  |. . . . . . . . . . . . . . . . . [-]| [17:18] '.' [1.0]\n",
            "  |. . . . . . . . . . . . . . . . . [-]| [17:18] '.' [1.0]\n",
            "  |. . . . . . . . . . . . . . . . . [-]| [17:18] .  -> '.' * [1.0]\n",
            "  |. . . . . . . . . . . . . . . . . > .| [17:17] .  -> * '.' [1.0]\n",
            "  |. . . . . . . . . . . . . . . . [-] .| [16:17] '29' [1.0]\n",
            "  |. . . . . . . . . . . . . . . [-] . .| [15:16] 'Nov.' [1.0]\n",
            "  |. . . . . . . . . . . . . . [-] . . .| [14:15] 'director' [1.0]\n",
            "  |. . . . . . . . . . . . . [-] . . . .| [13:14] 'nonexecutive' [1.0]\n",
            "  |. . . . . . . . . . . . [-] . . . . .| [12:13] 'a' [1.0]\n",
            "  |. . . . . . . . . . . [-] . . . . . .| [11:12] 'as' [1.0]\n",
            "  |. . . . . . . . . . [-] . . . . . . .| [10:11] 'board' [1.0]\n",
            "  |. . . . . . . . . [-] . . . . . . . .| [9:10] 'the' [1.0]\n",
            "  |. . . . . . . . [-] . . . . . . . . .| [8:9] 'join' [1.0]\n",
            "  |. . . . . . . . [-] . . . . . . . . .| [8:9] VB -> 'join' * [1.0]\n",
            "  |. . . . . . . . > . . . . . . . . . .| [8:8] VB -> * 'join' [1.0]\n",
            "  |. . . . . . . [-] . . . . . . . . . .| [7:8] 'will' [1.0]\n",
            "  |. . . . . . . [-] . . . . . . . . . .| [7:8] MD -> 'will' * [1.0]\n",
            "  |. . . . . . . > . . . . . . . . . . .| [7:7] MD -> * 'will' [1.0]\n",
            "  |. . . . . . [-] . . . . . . . . . . .| [6:7] ','  [1.0]\n",
            "  |. . . . . . [-] . . . . . . . . . . .| [6:7] ,  -> ',' * [1.0]\n",
            "  |. . . . . . [-> . . . . . . . . . . .| [6:7] NP|<,-NP> -> , * NP [1.0]\n",
            "  |. . . . . . [-> . . . . . . . . . . .| [6:7] NP-SBJ|<,-ADJP> -> , * NP-SBJ|<ADJP-,> [1.0]\n",
            "  |. . . . . . > . . . . . . . . . . . .| [6:6] NP|<,-NP> -> * , NP [1.0]\n",
            "  |. . . . . . > . . . . . . . . . . . .| [6:6] NP-SBJ|<,-ADJP> -> * , NP-SBJ|<ADJP-,> [1.0]\n",
            "  |. . . . . . > . . . . . . . . . . . .| [6:6] ,  -> * ',' [1.0]\n",
            "  |. . . . . [-] . . . . . . . . . . . .| [5:6] 'old' [1.0]\n",
            "  |. . . . [-] . . . . . . . . . . . . .| [4:5] 'years' [1.0]\n",
            "  |. . . . [-] . . . . . . . . . . . . .| [4:5] NNS -> 'years' * [1.0]\n",
            "  |. . . . > . . . . . . . . . . . . . .| [4:4] NNS -> * 'years' [1.0]\n",
            "  |. . . [-] . . . . . . . . . . . . . .| [3:4] '61' [1.0]\n",
            "  |. . [-] . . . . . . . . . . . . . . .| [2:3] ','  [1.0]\n",
            "  |. . [-] . . . . . . . . . . . . . . .| [2:3] ,  -> ',' * [1.0]\n",
            "  |. . [-> . . . . . . . . . . . . . . .| [2:3] NP|<,-NP> -> , * NP [1.0]\n",
            "  |. . [-> . . . . . . . . . . . . . . .| [2:3] NP-SBJ|<,-ADJP> -> , * NP-SBJ|<ADJP-,> [1.0]\n",
            "  |. . > . . . . . . . . . . . . . . . .| [2:2] NP|<,-NP> -> * , NP [1.0]\n",
            "  |. . > . . . . . . . . . . . . . . . .| [2:2] NP-SBJ|<,-ADJP> -> * , NP-SBJ|<ADJP-,> [1.0]\n",
            "  |. . > . . . . . . . . . . . . . . . .| [2:2] ,  -> * ',' [1.0]\n",
            "  |. [-] . . . . . . . . . . . . . . . .| [1:2] 'Vinken' [1.0]\n",
            "  |[-] . . . . . . . . . . . . . . . . .| [0:1] 'Pierre' [1.0]\n",
            "  |. . . . . . . . . [-] . . . . . . . .| [9:10] DT -> 'the' * [0.6666666666666666]\n",
            "  |. . . . . . . . . > . . . . . . . . .| [9:9] DT -> * 'the' [0.6666666666666666]\n",
            "  |. . . [-] . . . . . . . . . . . . . .| [3:4] CD -> '61' * [0.5]\n",
            "  |. . . > . . . . . . . . . . . . . . .| [3:3] CD -> * '61' [0.5]\n",
            "  |. . . . . [-] . . . . . . . . . . . .| [5:6] JJ -> 'old' * [0.5]\n",
            "  |. . . . . > . . . . . . . . . . . . .| [5:5] NP|<JJ-NN> -> * JJ NN [1.0]\n",
            "  |. . . . . [-> . . . . . . . . . . . .| [5:6] NP|<JJ-NN> -> JJ * NN [0.5]\n",
            "  |. . . . . > . . . . . . . . . . . . .| [5:5] JJ -> * 'old' [0.5]\n",
            "  |. . . . . . . . . . . [-] . . . . . .| [11:12] IN -> 'as' * [0.5]\n",
            "  |. . . . . . . . . . . > . . . . . . .| [11:11] PP -> * IN NP [1.0]\n",
            "  |. . . . . . . . . . . > . . . . . . .| [11:11] PP-CLR -> * IN NP [1.0]\n",
            "  |. . . . . . . . . . . [-> . . . . . .| [11:12] PP -> IN * NP [0.5]\n",
            "  |. . . . . . . . . . . [-> . . . . . .| [11:12] PP-CLR -> IN * NP [0.5]\n",
            "  |. . . . . . . . . . . > . . . . . . .| [11:11] IN -> * 'as' [0.5]\n",
            "  |. . . . . . . . . . . . . [-] . . . .| [13:14] JJ -> 'nonexecutive' * [0.5]\n",
            "  |. . . . . . . . . . . . . > . . . . .| [13:13] NP|<JJ-NN> -> * JJ NN [1.0]\n",
            "  |. . . . . . . . . . . . . [-> . . . .| [13:14] NP|<JJ-NN> -> JJ * NN [0.5]\n",
            "  |. . . . . . . . . . . . . > . . . . .| [13:13] JJ -> * 'nonexecutive' [0.5]\n",
            "  |. . . . . . . . . . . . . . . . [-] .| [16:17] CD -> '29' * [0.5]\n",
            "  |. . . . . . . . . . . . . . . . > . .| [16:16] CD -> * '29' [0.5]\n",
            "  |. . . . . . . [-> . . . . . . . . . .| [7:8] VP -> MD * VP [0.3333333333333333]\n",
            "  |. . . . . . . > . . . . . . . . . . .| [7:7] VP -> * MD VP [0.3333333333333333]\n",
            "  |. . . . . . . . [-> . . . . . . . . .| [8:9] VP -> VB * VP|<NP-PP-CLR> [0.3333333333333333]\n",
            "  |. . . . . . . . > . . . . . . . . . .| [8:8] VP -> * VB VP|<NP-PP-CLR> [0.3333333333333333]\n",
            "  |. . . . . . . . . . . . [-] . . . . .| [12:13] DT -> 'a' * [0.3333333333333333]\n",
            "  |. . . . . . . . . . . . > . . . . . .| [12:12] DT -> * 'a' [0.3333333333333333]\n",
            "  |. [-] . . . . . . . . . . . . . . . .| [1:2] NNP -> 'Vinken' * [0.25]\n",
            "  |. > . . . . . . . . . . . . . . . . .| [1:1] NP|<NNP-VBG> -> * NNP NP|<VBG-NN> [1.0]\n",
            "  |. > . . . . . . . . . . . . . . . . .| [1:1] NP-TMP -> * NNP CD [1.0]\n",
            "  |. > . . . . . . . . . . . . . . . . .| [1:1] NP-SBJ -> * NNP NNP [0.5]\n",
            "  |. [-> . . . . . . . . . . . . . . . .| [1:2] NP|<NNP-VBG> -> NNP * NP|<VBG-NN> [0.25]\n",
            "  |. [-> . . . . . . . . . . . . . . . .| [1:2] NP-TMP -> NNP * CD [0.25]\n",
            "  |. > . . . . . . . . . . . . . . . . .| [1:1] NP -> * NNP NNP [0.25]\n",
            "  |. > . . . . . . . . . . . . . . . . .| [1:1] NNP -> * 'Vinken' [0.25]\n",
            "  |. . . . . . . . . . [-] . . . . . . .| [10:11] NN -> 'board' * [0.25]\n",
            "  |. . . . . . . . . . > . . . . . . . .| [10:10] NN -> * 'board' [0.25]\n",
            "  |. . . . . . . . . . . . . . [-] . . .| [14:15] NN -> 'director' * [0.25]\n",
            "  |. . . . . . . . . . . . . . > . . . .| [14:14] NN -> * 'director' [0.25]\n",
            "  |. . . . . . . . . . . . . . > . . . .| [14:14] NP -> * NN [0.125]\n",
            "  |. . . . . . . . . . > . . . . . . . .| [10:10] NP -> * NN [0.125]\n",
            "  |. [-> . . . . . . . . . . . . . . . .| [1:2] NP-SBJ -> NNP * NNP [0.125]\n",
            "  |. . . . . . . . . . . . > . . . . . .| [12:12] NP -> * DT NP|<NNP-VBG> [0.125]\n",
            "  |. . . . . . . . . . . . > . . . . . .| [12:12] NP -> * DT NP|<JJ-NN> [0.125]\n",
            "  |. . . . . . . . . . . . > . . . . . .| [12:12] NP -> * DT NN [0.125]\n",
            "  |. . . . . . . . . . . . . . . . > . .| [16:16] NP -> * CD NNS [0.125]\n",
            "  |. . . . . . . . . . . . . [---] . . .| [13:15] NP|<JJ-NN> -> JJ NN * [0.125]\n",
            "  |. . . > . . . . . . . . . . . . . . .| [3:3] NP -> * CD NNS [0.125]\n",
            "  |. . . . . . . . . > . . . . . . . . .| [9:9] NP -> * DT NP|<NNP-VBG> [0.125]\n",
            "  |. . . . . . . . . > . . . . . . . . .| [9:9] NP -> * DT NP|<JJ-NN> [0.125]\n",
            "  |. . . . . . . . . > . . . . . . . . .| [9:9] NP -> * DT NN [0.125]\n",
            "  |[-] . . . . . . . . . . . . . . . . .| [0:1] NNP -> 'Pierre' * [0.125]\n",
            "  |> . . . . . . . . . . . . . . . . . .| [0:0] NP|<NNP-VBG> -> * NNP NP|<VBG-NN> [1.0]\n",
            "  |> . . . . . . . . . . . . . . . . . .| [0:0] NP-TMP -> * NNP CD [1.0]\n",
            "  |> . . . . . . . . . . . . . . . . . .| [0:0] NP-SBJ -> * NNP NNP [0.5]\n",
            "  |> . . . . . . . . . . . . . . . . . .| [0:0] NP -> * NNP NNP [0.25]\n",
            "  |[-> . . . . . . . . . . . . . . . . .| [0:1] NP|<NNP-VBG> -> NNP * NP|<VBG-NN> [0.125]\n",
            "  |[-> . . . . . . . . . . . . . . . . .| [0:1] NP-TMP -> NNP * CD [0.125]\n",
            "  |> . . . . . . . . . . . . . . . . . .| [0:0] NNP -> * 'Pierre' [0.125]\n",
            "  |. . . . . . . . . . . . . . . [-] . .| [15:16] NNP -> 'Nov.' * [0.125]\n",
            "  |. . . . . . . . . . . . . . . > . . .| [15:15] NP|<NNP-VBG> -> * NNP NP|<VBG-NN> [1.0]\n",
            "  |. . . . . . . . . . . . . . . > . . .| [15:15] NP-TMP -> * NNP CD [1.0]\n",
            "  |. . . . . . . . . . . . . . . > . . .| [15:15] NP-SBJ -> * NNP NNP [0.5]\n",
            "  |. . . . . . . . . . . . . . . > . . .| [15:15] NP -> * NNP NNP [0.25]\n",
            "  |. . . . . . . . . . . . . . . [-> . .| [15:16] NP|<NNP-VBG> -> NNP * NP|<VBG-NN> [0.125]\n",
            "  |. . . . . . . . . . . . . . . [-> . .| [15:16] NP-TMP -> NNP * CD [0.125]\n",
            "  |. . . . . . . . . . . . . . . > . . .| [15:15] NNP -> * 'Nov.' [0.125]\n",
            "  |. . . . . . . . . [-> . . . . . . . .| [9:10] NP -> DT * NP|<NNP-VBG> [0.08333333333333333]\n",
            "  |. . . . . . . . . [-> . . . . . . . .| [9:10] NP -> DT * NP|<JJ-NN> [0.08333333333333333]\n",
            "  |. . . . . . . . . [-> . . . . . . . .| [9:10] NP -> DT * NN [0.08333333333333333]\n",
            "  |. . . . . . . . . . . . . . . [---] .| [15:17] NP-TMP -> NNP CD * [0.0625]\n",
            "  |. . . . . . . . . . . . . . . [-> . .| [15:16] NP-SBJ -> NNP * NNP [0.0625]\n",
            "  |[-> . . . . . . . . . . . . . . . . .| [0:1] NP-SBJ -> NNP * NNP [0.0625]\n",
            "  |. [-> . . . . . . . . . . . . . . . .| [1:2] NP -> NNP * NNP [0.0625]\n",
            "  |. . . . . . . . . . . . . . . . [-> .| [16:17] NP -> CD * NNS [0.0625]\n",
            "  |. . . [-> . . . . . . . . . . . . . .| [3:4] NP -> CD * NNS [0.0625]\n",
            "  |. . . [---] . . . . . . . . . . . . .| [3:5] NP -> CD NNS * [0.0625]\n",
            "  |. . . > . . . . . . . . . . . . . . .| [3:3] NP-PRD -> * NP PP [1.0]\n",
            "  |. . . > . . . . . . . . . . . . . . .| [3:3] VP|<NP-PP-CLR> -> * NP VP|<PP-CLR-NP-TMP> [1.0]\n",
            "  |. . . > . . . . . . . . . . . . . . .| [3:3] ADJP -> * NP JJ [1.0]\n",
            "  |. . . > . . . . . . . . . . . . . . .| [3:3] NP-SBJ -> * NP NP-SBJ|<,-ADJP> [0.5]\n",
            "  |. . . > . . . . . . . . . . . . . . .| [3:3] NP -> * NP NP|<,-NP> [0.125]\n",
            "  |. . . [---> . . . . . . . . . . . . .| [3:5] NP-PRD -> NP * PP [0.0625]\n",
            "  |. . . [---> . . . . . . . . . . . . .| [3:5] VP|<NP-PP-CLR> -> NP * VP|<PP-CLR-NP-TMP> [0.0625]\n",
            "  |. . . [---> . . . . . . . . . . . . .| [3:5] ADJP -> NP * JJ [0.0625]\n",
            "  |. . [-----] . . . . . . . . . . . . .| [2:5] NP|<,-NP> -> , NP * [0.0625]\n",
            "  |. . . . . . . . . . . . [-> . . . . .| [12:13] NP -> DT * NP|<NNP-VBG> [0.041666666666666664]\n",
            "  |. . . . . . . . . . . . [-> . . . . .| [12:13] NP -> DT * NP|<JJ-NN> [0.041666666666666664]\n",
            "  |. . . . . . . . . . . . [-> . . . . .| [12:13] NP -> DT * NN [0.041666666666666664]\n",
            "  |. . . [-----] . . . . . . . . . . . .| [3:6] ADJP -> NP JJ * [0.03125]\n",
            "  |. . . > . . . . . . . . . . . . . . .| [3:3] NP-SBJ|<ADJP-,> -> * ADJP , [1.0]\n",
            "  |. . . [-----> . . . . . . . . . . . .| [3:6] NP-SBJ|<ADJP-,> -> ADJP * , [0.03125]\n",
            "  |. . . [-------] . . . . . . . . . . .| [3:7] NP-SBJ|<ADJP-,> -> ADJP , * [0.03125]\n",
            "  |. . [---------] . . . . . . . . . . .| [2:7] NP-SBJ|<,-ADJP> -> , NP-SBJ|<ADJP-,> * [0.03125]\n",
            "  |. . . [---> . . . . . . . . . . . . .| [3:5] NP-SBJ -> NP * NP-SBJ|<,-ADJP> [0.03125]\n",
            "  |. . . . . . . . . . . . . . . [-> . .| [15:16] NP -> NNP * NNP [0.03125]\n",
            "  |[-> . . . . . . . . . . . . . . . . .| [0:1] NP -> NNP * NNP [0.03125]\n",
            "  |. . . . . . . . . . . . . . [-] . . .| [14:15] NP -> NN * [0.03125]\n",
            "  |. . . . . . . . . . . . . . > . . . .| [14:14] NP-PRD -> * NP PP [1.0]\n",
            "  |. . . . . . . . . . . . . . > . . . .| [14:14] VP|<NP-PP-CLR> -> * NP VP|<PP-CLR-NP-TMP> [1.0]\n",
            "  |. . . . . . . . . . . . . . > . . . .| [14:14] ADJP -> * NP JJ [1.0]\n",
            "  |. . . . . . . . . . . . . . > . . . .| [14:14] NP-SBJ -> * NP NP-SBJ|<,-ADJP> [0.5]\n",
            "  |. . . . . . . . . . . . . . > . . . .| [14:14] NP -> * NP NP|<,-NP> [0.125]\n",
            "  |. . . . . . . . . . . . . . [-> . . .| [14:15] NP-PRD -> NP * PP [0.03125]\n",
            "  |. . . . . . . . . . . . . . [-> . . .| [14:15] VP|<NP-PP-CLR> -> NP * VP|<PP-CLR-NP-TMP> [0.03125]\n",
            "  |. . . . . . . . . . . . . . [-> . . .| [14:15] ADJP -> NP * JJ [0.03125]\n",
            "  |. . . . . . . . . . [-] . . . . . . .| [10:11] NP -> NN * [0.03125]\n",
            "  |. . . . . . . . . . > . . . . . . . .| [10:10] NP-PRD -> * NP PP [1.0]\n",
            "  |. . . . . . . . . . > . . . . . . . .| [10:10] VP|<NP-PP-CLR> -> * NP VP|<PP-CLR-NP-TMP> [1.0]\n",
            "  |. . . . . . . . . . > . . . . . . . .| [10:10] ADJP -> * NP JJ [1.0]\n",
            "  |. . . . . . . . . . > . . . . . . . .| [10:10] NP-SBJ -> * NP NP-SBJ|<,-ADJP> [0.5]\n",
            "  |. . . . . . . . . . > . . . . . . . .| [10:10] NP -> * NP NP|<,-NP> [0.125]\n",
            "  |. . . . . . . . . . [-> . . . . . . .| [10:11] NP-PRD -> NP * PP [0.03125]\n",
            "  |. . . . . . . . . . [-> . . . . . . .| [10:11] VP|<NP-PP-CLR> -> NP * VP|<PP-CLR-NP-TMP> [0.03125]\n",
            "  |. . . . . . . . . . [-> . . . . . . .| [10:11] ADJP -> NP * JJ [0.03125]\n",
            "  |. . . . . . . . . [---] . . . . . . .| [9:11] NP -> DT NN * [0.020833333333333332]\n",
            "  |. . . . . . . . . > . . . . . . . . .| [9:9] NP-PRD -> * NP PP [1.0]\n",
            "  |. . . . . . . . . > . . . . . . . . .| [9:9] VP|<NP-PP-CLR> -> * NP VP|<PP-CLR-NP-TMP> [1.0]\n",
            "  |. . . . . . . . . > . . . . . . . . .| [9:9] ADJP -> * NP JJ [1.0]\n",
            "  |. . . . . . . . . > . . . . . . . . .| [9:9] NP-SBJ -> * NP NP-SBJ|<,-ADJP> [0.5]\n",
            "  |. . . . . . . . . > . . . . . . . . .| [9:9] NP -> * NP NP|<,-NP> [0.125]\n",
            "  |. . . . . . . . . [---> . . . . . . .| [9:11] NP-PRD -> NP * PP [0.020833333333333332]\n",
            "  |. . . . . . . . . [---> . . . . . . .| [9:11] VP|<NP-PP-CLR> -> NP * VP|<PP-CLR-NP-TMP> [0.020833333333333332]\n",
            "  |. . . . . . . . . [---> . . . . . . .| [9:11] ADJP -> NP * JJ [0.020833333333333332]\n",
            "  |. . . . . . . . . . [-> . . . . . . .| [10:11] NP-SBJ -> NP * NP-SBJ|<,-ADJP> [0.015625]\n",
            "  |. . . . . . . . . . . . . . [-> . . .| [14:15] NP-SBJ -> NP * NP-SBJ|<,-ADJP> [0.015625]\n",
            "  |[---] . . . . . . . . . . . . . . . .| [0:2] NP-SBJ -> NNP NNP * [0.015625]\n",
            "  |> . . . . . . . . . . . . . . . . . .| [0:0] S  -> * NP-SBJ S|<VP-.> [1.0]\n",
            "  |[---> . . . . . . . . . . . . . . . .| [0:2] S  -> NP-SBJ * S|<VP-.> [0.015625]\n",
            "  |. . . . . . . . . [---> . . . . . . .| [9:11] NP-SBJ -> NP * NP-SBJ|<,-ADJP> [0.010416666666666666]\n",
            "  |[---] . . . . . . . . . . . . . . . .| [0:2] NP -> NNP NNP * [0.0078125]\n",
            "  |> . . . . . . . . . . . . . . . . . .| [0:0] NP-PRD -> * NP PP [1.0]\n",
            "  |> . . . . . . . . . . . . . . . . . .| [0:0] VP|<NP-PP-CLR> -> * NP VP|<PP-CLR-NP-TMP> [1.0]\n",
            "  |> . . . . . . . . . . . . . . . . . .| [0:0] ADJP -> * NP JJ [1.0]\n",
            "  |> . . . . . . . . . . . . . . . . . .| [0:0] NP-SBJ -> * NP NP-SBJ|<,-ADJP> [0.5]\n",
            "  |> . . . . . . . . . . . . . . . . . .| [0:0] NP -> * NP NP|<,-NP> [0.125]\n",
            "  |[---> . . . . . . . . . . . . . . . .| [0:2] NP-PRD -> NP * PP [0.0078125]\n",
            "  |[---> . . . . . . . . . . . . . . . .| [0:2] VP|<NP-PP-CLR> -> NP * VP|<PP-CLR-NP-TMP> [0.0078125]\n",
            "  |[---> . . . . . . . . . . . . . . . .| [0:2] ADJP -> NP * JJ [0.0078125]\n",
            "  |. . . [---> . . . . . . . . . . . . .| [3:5] NP -> NP * NP|<,-NP> [0.0078125]\n",
            "  |. . . . . . . . . . . . [-----] . . .| [12:15] NP -> DT NP|<JJ-NN> * [0.005208333333333333]\n",
            "  |. . . . . . . . . . . . > . . . . . .| [12:12] NP-PRD -> * NP PP [1.0]\n",
            "  |. . . . . . . . . . . . > . . . . . .| [12:12] VP|<NP-PP-CLR> -> * NP VP|<PP-CLR-NP-TMP> [1.0]\n",
            "  |. . . . . . . . . . . . > . . . . . .| [12:12] ADJP -> * NP JJ [1.0]\n",
            "  |. . . . . . . . . . . . > . . . . . .| [12:12] NP-SBJ -> * NP NP-SBJ|<,-ADJP> [0.5]\n",
            "  |. . . . . . . . . . . . > . . . . . .| [12:12] NP -> * NP NP|<,-NP> [0.125]\n",
            "  |. . . . . . . . . . . . [-----> . . .| [12:15] NP-PRD -> NP * PP [0.005208333333333333]\n",
            "  |. . . . . . . . . . . . [-----> . . .| [12:15] VP|<NP-PP-CLR> -> NP * VP|<PP-CLR-NP-TMP> [0.005208333333333333]\n",
            "  |. . . . . . . . . . . . [-----> . . .| [12:15] ADJP -> NP * JJ [0.005208333333333333]\n",
            "  |[---> . . . . . . . . . . . . . . . .| [0:2] NP-SBJ -> NP * NP-SBJ|<,-ADJP> [0.00390625]\n",
            "  |. . . . . . . . . . [-> . . . . . . .| [10:11] NP -> NP * NP|<,-NP> [0.00390625]\n",
            "  |. . . . . . . . . . . . . . [-> . . .| [14:15] NP -> NP * NP|<,-NP> [0.00390625]\n",
            "  |. . . . . . . . . . . . [-----> . . .| [12:15] NP-SBJ -> NP * NP-SBJ|<,-ADJP> [0.0026041666666666665]\n",
            "  |. . . . . . . . . . . [-------] . . .| [11:15] PP -> IN NP * [0.0026041666666666665]\n",
            "  |. . . . . . . . . . . [-------] . . .| [11:15] PP-CLR -> IN NP * [0.0026041666666666665]\n",
            "  |. . . . . . . . . . . > . . . . . . .| [11:11] VP|<PP-CLR-NP-TMP> -> * PP-CLR NP-TMP [1.0]\n",
            "  |. . . . . . . . . . . [-------> . . .| [11:15] VP|<PP-CLR-NP-TMP> -> PP-CLR * NP-TMP [0.0026041666666666665]\n",
            "  |. . . . . . . . . [---> . . . . . . .| [9:11] NP -> NP * NP|<,-NP> [0.0026041666666666665]\n",
            "  |[---> . . . . . . . . . . . . . . . .| [0:2] NP -> NP * NP|<,-NP> [0.0009765625]\n",
            "  |. . . . . . . . . . . . [-----> . . .| [12:15] NP -> NP * NP|<,-NP> [0.0006510416666666666]\n",
            "  |. . . . . . . . . . . [-----------] .| [11:17] VP|<PP-CLR-NP-TMP> -> PP-CLR NP-TMP * [0.00016276041666666666]\n",
            "  |[-------------] . . . . . . . . . . .| [0:7] NP-SBJ -> NP NP-SBJ|<,-ADJP> * [0.0001220703125]\n",
            "  |[-------------> . . . . . . . . . . .| [0:7] S  -> NP-SBJ * S|<VP-.> [0.0001220703125]\n",
            "  |. . . . . . . . . . [---------] . . .| [10:15] NP-PRD -> NP PP * [8.138020833333333e-05]\n",
            "  |[---------] . . . . . . . . . . . . .| [0:5] NP -> NP NP|<,-NP> * [6.103515625e-05]\n",
            "  |[---------> . . . . . . . . . . . . .| [0:5] NP-PRD -> NP * PP [6.103515625e-05]\n",
            "  |[---------> . . . . . . . . . . . . .| [0:5] VP|<NP-PP-CLR> -> NP * VP|<PP-CLR-NP-TMP> [6.103515625e-05]\n",
            "  |[---------> . . . . . . . . . . . . .| [0:5] ADJP -> NP * JJ [6.103515625e-05]\n",
            "  |. . . . . . . . . [-----------] . . .| [9:15] NP-PRD -> NP PP * [5.425347222222222e-05]\n",
            "  |[-----------] . . . . . . . . . . . .| [0:6] ADJP -> NP JJ * [3.0517578125e-05]\n",
            "  |> . . . . . . . . . . . . . . . . . .| [0:0] NP-SBJ|<ADJP-,> -> * ADJP , [1.0]\n",
            "  |[-----------> . . . . . . . . . . . .| [0:6] NP-SBJ|<ADJP-,> -> ADJP * , [3.0517578125e-05]\n",
            "  |[-------------] . . . . . . . . . . .| [0:7] NP-SBJ|<ADJP-,> -> ADJP , * [3.0517578125e-05]\n",
            "  |[---------> . . . . . . . . . . . . .| [0:5] NP-SBJ -> NP * NP-SBJ|<,-ADJP> [3.0517578125e-05]\n",
            "  |[---------> . . . . . . . . . . . . .| [0:5] NP -> NP * NP|<,-NP> [7.62939453125e-06]\n",
            "  |. . . . . . . . . . [-------------] .| [10:17] VP|<NP-PP-CLR> -> NP VP|<PP-CLR-NP-TMP> * [5.086263020833333e-06]\n",
            "  |. . . . . . . . . [---------------] .| [9:17] VP|<NP-PP-CLR> -> NP VP|<PP-CLR-NP-TMP> * [3.3908420138888887e-06]\n",
            "  |. . . . . . . . [-----------------] .| [8:17] VP -> VB VP|<NP-PP-CLR> * [1.1302806712962962e-06]\n",
            "  |. . . . . . . . > . . . . . . . . . .| [8:8] S|<VP-.> -> * VP . [1.0]\n",
            "  |. . . . . . . . [-----------------> .| [8:17] S|<VP-.> -> VP * . [1.1302806712962962e-06]\n",
            "  |. . . . . . . . [-------------------]| [8:18] S|<VP-.> -> VP . * [1.1302806712962962e-06]\n",
            "  |. . . . . . . [-------------------] .| [7:17] VP -> MD VP * [3.767602237654321e-07]\n",
            "  |. . . . . . . > . . . . . . . . . . .| [7:7] S|<VP-.> -> * VP . [1.0]\n",
            "  |. . . . . . . [-------------------> .| [7:17] S|<VP-.> -> VP * . [3.767602237654321e-07]\n",
            "  |. . . . . . . [---------------------]| [7:18] S|<VP-.> -> VP . * [3.767602237654321e-07]\n",
            "  |[===================================]| [0:18] S  -> NP-SBJ S|<VP-.> * [4.599123825261622e-11]\n",
            "(S\n",
            "  (NP-SBJ\n",
            "    (NP (NNP Pierre) (NNP Vinken))\n",
            "    (NP-SBJ|<,-ADJP>\n",
            "      (, ,)\n",
            "      (NP-SBJ|<ADJP-,>\n",
            "        (ADJP (NP (CD 61) (NNS years)) (JJ old))\n",
            "        (, ,))))\n",
            "  (S|<VP-.>\n",
            "    (VP\n",
            "      (MD will)\n",
            "      (VP\n",
            "        (VB join)\n",
            "        (VP|<NP-PP-CLR>\n",
            "          (NP (DT the) (NN board))\n",
            "          (VP|<PP-CLR-NP-TMP>\n",
            "            (PP-CLR\n",
            "              (IN as)\n",
            "              (NP\n",
            "                (DT a)\n",
            "                (NP|<JJ-NN>\n",
            "                  (JJ nonexecutive)\n",
            "                  (NN director))))\n",
            "            (NP-TMP (NNP Nov.) (CD 29))))))\n",
            "    (. .))) (p=4.59912e-11)\n"
          ],
          "name": "stdout"
        }
      ]
    },
    {
      "cell_type": "markdown",
      "metadata": {
        "id": "_H6AQ8TaqyhW",
        "colab_type": "text"
      },
      "source": [
        "## ERG를 사용하려면\n",
        "DELPH-IN(Deep Linguistic Processing with HPSG Initiative)은 핵어중심구구조문법(Head-Driven Phrase Structure Grammar, HPSG)과 최소귀환의미론(Minimal Recursion Semantics)와 함께, 언어학적 방법과 통계 처리 방법을 사용해 텍스트나 발화의 **의미**를 추출하는, 자연어의 딥러닝 기반 언어 처리를 목표로 하는 세계의 전산언어학자들의 모임입니다.\n",
        "\n",
        "1993년 스탠포드 대학교 언어정보연구센터에서 개발을 시작한 English Resource Grammar(ERG)는 규칙기반 기계번역을 목표로 만들어졌지만, 이후 더 많은 영역에 활용될 수 있도록 확장되었습니다. [온라인 데모 페이지](http://erg.delph-in.net/logon)에서 별도의 설치 없이 ERG를 통한 parsing을 살펴볼 수 있습니다.\n",
        "\n",
        "ERG는 세 가지 방법으로 사용할 수 있습니다.\n",
        "\n",
        "1. DELPH-IN 배포판 사용하기 (리눅스 필요; full 버전)\n",
        "1. 독립실행 가능한 ACE, PET 파서 사용하기 (윈도우 및 맥OS 지원)\n",
        "1. [API](http://moin.delph-in.net/ErgApi) 사용하기\n",
        "\n",
        "\n",
        "첫 번째 경우 서버를 제공하는 오슬로대학교 통신 상태에 따라 시간도 오래 걸리고, 무엇보다 root 권한이 없어야만 실행이 되는데, Colab에서 돌아가는 코드는 모두 root권한이기에 오류가 발생합니다. 해당 방법은 아래 '참고'페이지를 참고해 로컬에서 돌려 보세요.\n",
        "\n",
        "두 번째 방법 역시 독립된 실행 파일을 설치하는 방법이기에 Colab에서 실행하기 힘듭니다. '참고'페이지를 참고해 로컬에서 실행해 보세요.\n",
        "\n",
        "따라서 이 실습에서는 세 번째 방법을 사용합니다.\n",
        "\n",
        "[참고](http://moin.delph-in.net/ErgProcessing)"
      ]
    },
    {
      "cell_type": "code",
      "metadata": {
        "id": "C5GLy1Na0dca",
        "colab_type": "code",
        "outputId": "0acc327e-2ad4-41d4-b932-9f67dafafb6c",
        "colab": {
          "base_uri": "https://localhost:8080/",
          "height": 255
        }
      },
      "source": [
        "!pip install pydelphin"
      ],
      "execution_count": 0,
      "outputs": [
        {
          "output_type": "stream",
          "text": [
            "Collecting pydelphin\n",
            "\u001b[?25l  Downloading https://files.pythonhosted.org/packages/e5/79/0e230983438e96e3c58db898d94a7b94e31b860bd0b379679df48b96e5c9/PyDelphin-1.2.4-py3-none-any.whl (172kB)\n",
            "\r\u001b[K     |██                              | 10kB 15.6MB/s eta 0:00:01\r\u001b[K     |███▉                            | 20kB 1.6MB/s eta 0:00:01\r\u001b[K     |█████▊                          | 30kB 2.3MB/s eta 0:00:01\r\u001b[K     |███████▋                        | 40kB 1.6MB/s eta 0:00:01\r\u001b[K     |█████████▌                      | 51kB 2.0MB/s eta 0:00:01\r\u001b[K     |███████████▍                    | 61kB 2.4MB/s eta 0:00:01\r\u001b[K     |█████████████▎                  | 71kB 2.8MB/s eta 0:00:01\r\u001b[K     |███████████████▏                | 81kB 3.0MB/s eta 0:00:01\r\u001b[K     |█████████████████               | 92kB 3.4MB/s eta 0:00:01\r\u001b[K     |███████████████████             | 102kB 2.8MB/s eta 0:00:01\r\u001b[K     |█████████████████████           | 112kB 2.8MB/s eta 0:00:01\r\u001b[K     |██████████████████████▉         | 122kB 2.8MB/s eta 0:00:01\r\u001b[K     |████████████████████████▊       | 133kB 2.8MB/s eta 0:00:01\r\u001b[K     |██████████████████████████▋     | 143kB 2.8MB/s eta 0:00:01\r\u001b[K     |████████████████████████████▌   | 153kB 2.8MB/s eta 0:00:01\r\u001b[K     |██████████████████████████████▍ | 163kB 2.8MB/s eta 0:00:01\r\u001b[K     |████████████████████████████████| 174kB 2.8MB/s \n",
            "\u001b[?25hCollecting progress==1.5\n",
            "  Downloading https://files.pythonhosted.org/packages/38/ef/2e887b3d2b248916fc2121889ce68af8a16aaddbe82f9ae6533c24ff0d2b/progress-1.5.tar.gz\n",
            "Collecting penman==0.9.1\n",
            "  Downloading https://files.pythonhosted.org/packages/c7/7c/fbac506db6ef8e1dc7a57e50e0709fc0f1642b7536dce60f595b1ed25b7b/Penman-0.9.1-py3-none-any.whl\n",
            "Building wheels for collected packages: progress\n",
            "  Building wheel for progress (setup.py) ... \u001b[?25l\u001b[?25hdone\n",
            "  Created wheel for progress: filename=progress-1.5-cp36-none-any.whl size=8074 sha256=742d2803268795b01e82e99cdfcdb1d4c5826dfbc5c595f1c06236104b31916a\n",
            "  Stored in directory: /root/.cache/pip/wheels/6c/c8/80/32a294e3041f006c661838c05a411c7b7ffc60ff939d14e116\n",
            "Successfully built progress\n",
            "Installing collected packages: progress, penman, pydelphin\n",
            "Successfully installed penman-0.9.1 progress-1.5 pydelphin-1.2.4\n"
          ],
          "name": "stdout"
        }
      ]
    },
    {
      "cell_type": "markdown",
      "metadata": {
        "id": "lzl_-tgI2PUh",
        "colab_type": "text"
      },
      "source": [
        "[PyDelphin](http://moin.delph-in.net/PyDelphinTop?action=show&redirect=PyDelphin)은 DELPH-IN representation을 위한 파이썬 라이브러리로, 우리가 사용할 API의 클라이언트 역할 또한 합니다."
      ]
    },
    {
      "cell_type": "code",
      "metadata": {
        "id": "eMam3Qam2e0k",
        "colab_type": "code",
        "outputId": "2fef0bbb-4fa2-41e4-b6b2-95b004509272",
        "colab": {
          "base_uri": "https://localhost:8080/",
          "height": 1000
        }
      },
      "source": [
        "import json\n",
        "from delphin.web import client\n",
        "url = \"http://erg.delph-in.net/rest/0.9/\"\n",
        "r = client.parse('Dogs chase cats.', params={\"mrs\":\"json\"}, server=url)\n",
        "result = r.result(0)['mrs']\n",
        "print(json.dumps(result, indent=4, sort_keys=False))"
      ],
      "execution_count": 0,
      "outputs": [
        {
          "output_type": "stream",
          "text": [
            "{\n",
            "    \"top\": \"h1\",\n",
            "    \"index\": \"e3\",\n",
            "    \"relations\": [\n",
            "        {\n",
            "            \"label\": \"h4\",\n",
            "            \"predicate\": \"udef_q\",\n",
            "            \"lnk\": {\n",
            "                \"from\": 0,\n",
            "                \"to\": 4\n",
            "            },\n",
            "            \"arguments\": {\n",
            "                \"ARG0\": \"x6\",\n",
            "                \"RSTR\": \"h5\",\n",
            "                \"BODY\": \"h7\"\n",
            "            }\n",
            "        },\n",
            "        {\n",
            "            \"label\": \"h8\",\n",
            "            \"predicate\": \"_dog_n_1\",\n",
            "            \"lnk\": {\n",
            "                \"from\": 0,\n",
            "                \"to\": 4\n",
            "            },\n",
            "            \"arguments\": {\n",
            "                \"ARG0\": \"x6\"\n",
            "            }\n",
            "        },\n",
            "        {\n",
            "            \"label\": \"h2\",\n",
            "            \"predicate\": \"_chase_v_1\",\n",
            "            \"lnk\": {\n",
            "                \"from\": 5,\n",
            "                \"to\": 10\n",
            "            },\n",
            "            \"arguments\": {\n",
            "                \"ARG0\": \"e3\",\n",
            "                \"ARG1\": \"x6\",\n",
            "                \"ARG2\": \"x9\"\n",
            "            }\n",
            "        },\n",
            "        {\n",
            "            \"label\": \"h10\",\n",
            "            \"predicate\": \"udef_q\",\n",
            "            \"lnk\": {\n",
            "                \"from\": 11,\n",
            "                \"to\": 16\n",
            "            },\n",
            "            \"arguments\": {\n",
            "                \"ARG0\": \"x9\",\n",
            "                \"RSTR\": \"h11\",\n",
            "                \"BODY\": \"h12\"\n",
            "            }\n",
            "        },\n",
            "        {\n",
            "            \"label\": \"h13\",\n",
            "            \"predicate\": \"_cat_n_1\",\n",
            "            \"lnk\": {\n",
            "                \"from\": 11,\n",
            "                \"to\": 16\n",
            "            },\n",
            "            \"arguments\": {\n",
            "                \"ARG0\": \"x9\"\n",
            "            }\n",
            "        }\n",
            "    ],\n",
            "    \"constraints\": [\n",
            "        {\n",
            "            \"relation\": \"qeq\",\n",
            "            \"high\": \"h1\",\n",
            "            \"low\": \"h2\"\n",
            "        },\n",
            "        {\n",
            "            \"relation\": \"qeq\",\n",
            "            \"high\": \"h5\",\n",
            "            \"low\": \"h8\"\n",
            "        },\n",
            "        {\n",
            "            \"relation\": \"qeq\",\n",
            "            \"high\": \"h11\",\n",
            "            \"low\": \"h13\"\n",
            "        }\n",
            "    ],\n",
            "    \"variables\": {\n",
            "        \"h13\": {\n",
            "            \"type\": \"h\"\n",
            "        },\n",
            "        \"h12\": {\n",
            "            \"type\": \"h\"\n",
            "        },\n",
            "        \"h11\": {\n",
            "            \"type\": \"h\"\n",
            "        },\n",
            "        \"h10\": {\n",
            "            \"type\": \"h\"\n",
            "        },\n",
            "        \"x9\": {\n",
            "            \"type\": \"x\",\n",
            "            \"properties\": {\n",
            "                \"PERS\": \"3\",\n",
            "                \"NUM\": \"pl\",\n",
            "                \"IND\": \"+\"\n",
            "            }\n",
            "        },\n",
            "        \"h2\": {\n",
            "            \"type\": \"h\"\n",
            "        },\n",
            "        \"h8\": {\n",
            "            \"type\": \"h\"\n",
            "        },\n",
            "        \"h7\": {\n",
            "            \"type\": \"h\"\n",
            "        },\n",
            "        \"h5\": {\n",
            "            \"type\": \"h\"\n",
            "        },\n",
            "        \"x6\": {\n",
            "            \"type\": \"x\",\n",
            "            \"properties\": {\n",
            "                \"PERS\": \"3\",\n",
            "                \"NUM\": \"pl\",\n",
            "                \"IND\": \"+\"\n",
            "            }\n",
            "        },\n",
            "        \"h4\": {\n",
            "            \"type\": \"h\"\n",
            "        },\n",
            "        \"e3\": {\n",
            "            \"type\": \"e\",\n",
            "            \"properties\": {\n",
            "                \"SF\": \"prop\",\n",
            "                \"TENSE\": \"pres\",\n",
            "                \"MOOD\": \"indicative\",\n",
            "                \"PROG\": \"-\",\n",
            "                \"PERF\": \"-\"\n",
            "            }\n",
            "        },\n",
            "        \"h1\": {\n",
            "            \"type\": \"h\"\n",
            "        }\n",
            "    }\n",
            "}\n"
          ],
          "name": "stdout"
        }
      ]
    },
    {
      "cell_type": "markdown",
      "metadata": {
        "id": "cnznCht4-vdY",
        "colab_type": "text"
      },
      "source": [
        "Param을 조절해 다른 의미 표상 방법을 사용할 수 있습니다."
      ]
    },
    {
      "cell_type": "code",
      "metadata": {
        "id": "-z7Neq0k-0X7",
        "colab_type": "code",
        "outputId": "2c510af4-6a08-48e9-e47b-3d4ab6ce4dab",
        "colab": {
          "base_uri": "https://localhost:8080/",
          "height": 1000
        }
      },
      "source": [
        "import json\n",
        "from delphin.web import client\n",
        "url = \"http://erg.delph-in.net/rest/0.9/\"\n",
        "r = client.parse('Dogs chase cats.', params={\"eds\":\"json\"}, server=url)\n",
        "result = r.result(0)['eds']\n",
        "print(json.dumps(result, indent=4, sort_keys=False))"
      ],
      "execution_count": 0,
      "outputs": [
        {
          "output_type": "stream",
          "text": [
            "{\n",
            "    \"top\": \"e3\",\n",
            "    \"nodes\": {\n",
            "        \"_1\": {\n",
            "            \"label\": \"udef_q\",\n",
            "            \"lnk\": {\n",
            "                \"from\": 0,\n",
            "                \"to\": 4\n",
            "            },\n",
            "            \"edges\": {\n",
            "                \"BV\": \"x6\"\n",
            "            }\n",
            "        },\n",
            "        \"x6\": {\n",
            "            \"label\": \"_dog_n_1\",\n",
            "            \"lnk\": {\n",
            "                \"from\": 0,\n",
            "                \"to\": 4\n",
            "            },\n",
            "            \"type\": \"x\",\n",
            "            \"properties\": {\n",
            "                \"PERS\": \"3\",\n",
            "                \"NUM\": \"pl\",\n",
            "                \"IND\": \"+\"\n",
            "            },\n",
            "            \"edges\": {}\n",
            "        },\n",
            "        \"e3\": {\n",
            "            \"label\": \"_chase_v_1\",\n",
            "            \"lnk\": {\n",
            "                \"from\": 5,\n",
            "                \"to\": 10\n",
            "            },\n",
            "            \"type\": \"e\",\n",
            "            \"properties\": {\n",
            "                \"SF\": \"prop\",\n",
            "                \"TENSE\": \"pres\",\n",
            "                \"MOOD\": \"indicative\",\n",
            "                \"PROG\": \"-\",\n",
            "                \"PERF\": \"-\"\n",
            "            },\n",
            "            \"edges\": {\n",
            "                \"ARG1\": \"x6\",\n",
            "                \"ARG2\": \"x9\"\n",
            "            }\n",
            "        },\n",
            "        \"_2\": {\n",
            "            \"label\": \"udef_q\",\n",
            "            \"lnk\": {\n",
            "                \"from\": 11,\n",
            "                \"to\": 16\n",
            "            },\n",
            "            \"edges\": {\n",
            "                \"BV\": \"x9\"\n",
            "            }\n",
            "        },\n",
            "        \"x9\": {\n",
            "            \"label\": \"_cat_n_1\",\n",
            "            \"lnk\": {\n",
            "                \"from\": 11,\n",
            "                \"to\": 16\n",
            "            },\n",
            "            \"type\": \"x\",\n",
            "            \"properties\": {\n",
            "                \"PERS\": \"3\",\n",
            "                \"NUM\": \"pl\",\n",
            "                \"IND\": \"+\"\n",
            "            },\n",
            "            \"edges\": {}\n",
            "        }\n",
            "    }\n",
            "}\n"
          ],
          "name": "stdout"
        }
      ]
    },
    {
      "cell_type": "markdown",
      "metadata": {
        "id": "7kWUxnE4An4G",
        "colab_type": "text"
      },
      "source": [
        "MRS에 관한 학습을 원하시면 [Copestake, et al. (2005)](http://lingo.stanford.edu/sag/papers/copestake.pdf)를 참조하세요!"
      ]
    },
    {
      "cell_type": "markdown",
      "metadata": {
        "id": "d_pDPvnABj0E",
        "colab_type": "text"
      },
      "source": [
        "## 의존관계 알아보기"
      ]
    },
    {
      "cell_type": "code",
      "metadata": {
        "id": "YF5s_QnhBnIw",
        "colab_type": "code",
        "outputId": "3462fe98-2f11-4a13-cc5c-4c6cd2c52804",
        "colab": {
          "base_uri": "https://localhost:8080/",
          "height": 170
        }
      },
      "source": [
        "from delphin.web import client\n",
        "url = \"http://erg.delph-in.net/rest/0.9/\"\n",
        "r = client.parse(\"Is it true that John loves Mary?\", params={\"dm\":\"sdp\"}, server=url)\n",
        "dm = r.result(0)[\"dm\"]\n",
        "print(dm)"
      ],
      "execution_count": 0,
      "outputs": [
        {
          "output_type": "stream",
          "text": [
            "#15951\n",
            "1\tIs\tis\tVBZ\t-\t-\t_\t_\t_\n",
            "2\tit\tit\tPRP\t-\t-\t_\t_\t_\n",
            "3\ttrue\ttrue\tJJ\t+\t+\ta_of:e-h\t_\t_\n",
            "4\tthat\tthat\tIN\t-\t-\t_\t_\t_\n",
            "5\tJohn\tJohn\tNNP\t-\t-\tnamed:x-c\t_\tARG1\n",
            "6\tloves\tlove\tVBZ\t-\t+\tv:e-i-p\tARG1\t_\n",
            "7\tMary\tMary\tNNP\t-\t-\tnamed:x-c\t_\tARG2\n",
            "8\t?\t_\t.\t-\t-\t_\t_\t_\n"
          ],
          "name": "stdout"
        }
      ]
    },
    {
      "cell_type": "markdown",
      "metadata": {
        "id": "0Ysa8NuO9uYn",
        "colab_type": "text"
      },
      "source": [
        "## 활용 예제 : 핵어 추출하기"
      ]
    },
    {
      "cell_type": "code",
      "metadata": {
        "id": "XuCaVy3b9yBB",
        "colab_type": "code",
        "colab": {}
      },
      "source": [
        "def getHead(sentence):\n",
        "  from delphin.web import client\n",
        "  url = \"http://erg.delph-in.net/rest/0.9/\"\n",
        "  r = client.parse(sentence, params={\"eds\":\"json\"}, server=url)\n",
        "  eds = r.result(0)[\"eds\"]\n",
        "  head = eds[\"nodes\"][eds[\"top\"]][\"label\"]\n",
        "  return head"
      ],
      "execution_count": 0,
      "outputs": []
    },
    {
      "cell_type": "code",
      "metadata": {
        "id": "4Z5KxqyG_GDF",
        "colab_type": "code",
        "outputId": "555709fe-078e-4f2b-fa04-51e9457c1cb5",
        "colab": {
          "base_uri": "https://localhost:8080/",
          "height": 68
        }
      },
      "source": [
        "print(getHead(\"I am a boy.\"))\n",
        "print(getHead(\"I love natural language processing.\"))\n",
        "print(getHead(\"Your Sentence Here\"))"
      ],
      "execution_count": 0,
      "outputs": [
        {
          "output_type": "stream",
          "text": [
            "_be_v_id\n",
            "_love_v_1\n",
            "unknown\n"
          ],
          "name": "stdout"
        }
      ]
    },
    {
      "cell_type": "markdown",
      "metadata": {
        "id": "-Yx1YWcmGFLu",
        "colab_type": "text"
      },
      "source": [
        "## 의미 표상을 논문에 사용하기 : LaTeX 활용"
      ]
    },
    {
      "cell_type": "code",
      "metadata": {
        "id": "djs7IkCRGMC8",
        "colab_type": "code",
        "colab": {}
      },
      "source": [
        "from delphin import dmrs\n",
        "from delphin.web import client\n",
        "url = \"http://erg.delph-in.net/rest/0.9/\"\n",
        "r = client.parse(\"John loves Mary as much as Mark loves her.\", params={\"dm\":\"latex\"}, server=url)"
      ],
      "execution_count": 0,
      "outputs": []
    },
    {
      "cell_type": "code",
      "metadata": {
        "id": "5qlsrV9jH3lM",
        "colab_type": "code",
        "colab": {}
      },
      "source": [
        "dm = r.result(0)[\"dm\"]\n",
        "dm = dm.replace(\"amp\", \"&\")"
      ],
      "execution_count": 0,
      "outputs": []
    },
    {
      "cell_type": "code",
      "metadata": {
        "id": "MgFuJ6UwNdh0",
        "colab_type": "code",
        "outputId": "7f3d012a-b98c-4b2b-95b2-17c216390857",
        "colab": {
          "base_uri": "https://localhost:8080/",
          "height": 221
        }
      },
      "source": [
        "print(dm)"
      ],
      "execution_count": 0,
      "outputs": [
        {
          "output_type": "stream",
          "text": [
            "\\begin{dependency}[edge above, edge slant=0.15ex, edge unit distance=2ex]\n",
            "  \\begin{deptext}[column sep=1ex]\n",
            "    John \\& loves \\& Mary \\& as \\& much \\& as \\& Mark \\& loves \\& her \\& .\\\\\n",
            "\\end{deptext}\n",
            "\\deproot{2}{top}\n",
            "\\depedge{2}{3}{ARG2}\n",
            "\\depedge{2}{1}{ARG1}\n",
            "\\depedge{5}{8}{than}\n",
            "\\depedge{5}{2}{ARG1}\n",
            "\\depedge{8}{9}{ARG2}\n",
            "\\depedge{8}{7}{ARG1}\n",
            "\\end{dependency}\n"
          ],
          "name": "stdout"
        }
      ]
    }
  ]
}